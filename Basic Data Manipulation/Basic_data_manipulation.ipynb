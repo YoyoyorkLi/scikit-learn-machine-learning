{
 "cells": [
  {
   "cell_type": "code",
   "execution_count": 3,
   "id": "2e151a6c-4295-4000-b2e3-e36b705cd4ed",
   "metadata": {},
   "outputs": [],
   "source": [
    "import pandas as pd"
   ]
  },
  {
   "cell_type": "code",
   "execution_count": 5,
   "id": "a27a8b0d-bc77-4da7-a69d-2fe7cde0220a",
   "metadata": {},
   "outputs": [],
   "source": [
    "df = pd.read_csv('dataset_1.csv')"
   ]
  },
  {
   "cell_type": "code",
   "execution_count": 7,
   "id": "5fe5013b-3107-498f-b891-ac419ef40c8f",
   "metadata": {},
   "outputs": [
    {
     "data": {
      "text/html": [
       "<div>\n",
       "<style scoped>\n",
       "    .dataframe tbody tr th:only-of-type {\n",
       "        vertical-align: middle;\n",
       "    }\n",
       "\n",
       "    .dataframe tbody tr th {\n",
       "        vertical-align: top;\n",
       "    }\n",
       "\n",
       "    .dataframe thead th {\n",
       "        text-align: right;\n",
       "    }\n",
       "</style>\n",
       "<table border=\"1\" class=\"dataframe\">\n",
       "  <thead>\n",
       "    <tr style=\"text-align: right;\">\n",
       "      <th></th>\n",
       "      <th>Product ID</th>\n",
       "      <th>Product Category</th>\n",
       "      <th>Product Name</th>\n",
       "      <th>Sales</th>\n",
       "      <th>Ratings</th>\n",
       "    </tr>\n",
       "  </thead>\n",
       "  <tbody>\n",
       "    <tr>\n",
       "      <th>0</th>\n",
       "      <td>101</td>\n",
       "      <td>Electronics</td>\n",
       "      <td>TV</td>\n",
       "      <td>950.0</td>\n",
       "      <td>4.5</td>\n",
       "    </tr>\n",
       "    <tr>\n",
       "      <th>1</th>\n",
       "      <td>102</td>\n",
       "      <td>Furniture</td>\n",
       "      <td>Table</td>\n",
       "      <td>NaN</td>\n",
       "      <td>4.0</td>\n",
       "    </tr>\n",
       "    <tr>\n",
       "      <th>2</th>\n",
       "      <td>103</td>\n",
       "      <td>Electronics</td>\n",
       "      <td>Refrigerator</td>\n",
       "      <td>900.0</td>\n",
       "      <td>4.7</td>\n",
       "    </tr>\n",
       "    <tr>\n",
       "      <th>3</th>\n",
       "      <td>104</td>\n",
       "      <td>Grocery</td>\n",
       "      <td>Bread</td>\n",
       "      <td>50.0</td>\n",
       "      <td>NaN</td>\n",
       "    </tr>\n",
       "    <tr>\n",
       "      <th>4</th>\n",
       "      <td>105</td>\n",
       "      <td>Electronics</td>\n",
       "      <td>Microwave</td>\n",
       "      <td>NaN</td>\n",
       "      <td>4.2</td>\n",
       "    </tr>\n",
       "    <tr>\n",
       "      <th>5</th>\n",
       "      <td>106</td>\n",
       "      <td>Furniture</td>\n",
       "      <td>Chair</td>\n",
       "      <td>150.0</td>\n",
       "      <td>4.0</td>\n",
       "    </tr>\n",
       "    <tr>\n",
       "      <th>6</th>\n",
       "      <td>107</td>\n",
       "      <td>NaN</td>\n",
       "      <td>Sofa</td>\n",
       "      <td>400.0</td>\n",
       "      <td>NaN</td>\n",
       "    </tr>\n",
       "  </tbody>\n",
       "</table>\n",
       "</div>"
      ],
      "text/plain": [
       "   Product ID Product Category  Product Name  Sales  Ratings\n",
       "0         101      Electronics            TV  950.0      4.5\n",
       "1         102        Furniture         Table    NaN      4.0\n",
       "2         103      Electronics  Refrigerator  900.0      4.7\n",
       "3         104          Grocery         Bread   50.0      NaN\n",
       "4         105      Electronics     Microwave    NaN      4.2\n",
       "5         106        Furniture         Chair  150.0      4.0\n",
       "6         107              NaN          Sofa  400.0      NaN"
      ]
     },
     "execution_count": 7,
     "metadata": {},
     "output_type": "execute_result"
    }
   ],
   "source": [
    "df"
   ]
  },
  {
   "cell_type": "markdown",
   "id": "0b1e2a55-b2c0-4f16-8627-57d2d225d651",
   "metadata": {},
   "source": [
    "# Task 1: Impute Missing Values, filling in NA with means of numerical value and most common for categorical value"
   ]
  },
  {
   "cell_type": "code",
   "execution_count": 9,
   "id": "bcd4a19f-6ad7-4914-b038-ac7b20347101",
   "metadata": {},
   "outputs": [
    {
     "name": "stdout",
     "output_type": "stream",
     "text": [
      "   Product ID Product Category  Product Name  Sales  Ratings\n",
      "0         101      Electronics            TV  950.0     4.50\n",
      "1         102        Furniture         Table  490.0     4.00\n",
      "2         103      Electronics  Refrigerator  900.0     4.70\n",
      "3         104          Grocery         Bread   50.0     4.28\n",
      "4         105      Electronics     Microwave  490.0     4.20\n",
      "5         106        Furniture         Chair  150.0     4.00\n",
      "6         107      Electronics          Sofa  400.0     4.28\n"
     ]
    }
   ],
   "source": [
    "df['Sales'] = df['Sales'].fillna(df['Sales'].mean())\n",
    "df['Ratings'] = df['Ratings'].fillna(df['Ratings'].mean())\n",
    "df['Product Category'] = df['Product Category'].fillna(df['Product Category'].mode()[0]) ##finding the most common entry in 'Product Category'\n",
    "\n",
    "imputed_products_df = df\n",
    "print(imputed_products_df)\n"
   ]
  },
  {
   "cell_type": "markdown",
   "id": "2bcef683-2666-4c8c-b59d-9a3d64a89006",
   "metadata": {},
   "source": [
    "# Task 2: Searching through data frame for a categorical variable"
   ]
  },
  {
   "cell_type": "code",
   "execution_count": 11,
   "id": "4c109afa-d08d-404b-a56d-251e44e99a3b",
   "metadata": {},
   "outputs": [
    {
     "name": "stdout",
     "output_type": "stream",
     "text": [
      "   Product ID Product Category  Product Name  Sales  Ratings\n",
      "0         101      Electronics            TV  950.0     4.50\n",
      "2         103      Electronics  Refrigerator  900.0     4.70\n",
      "4         105      Electronics     Microwave  490.0     4.20\n",
      "6         107      Electronics          Sofa  400.0     4.28\n"
     ]
    }
   ],
   "source": [
    "electronics_products = imputed_products_df[imputed_products_df['Product Category'] == 'Electronics'] ##matching items in 'Product Category' to a string\n",
    "print(electronics_products)"
   ]
  },
  {
   "cell_type": "markdown",
   "id": "4e98c3f0-9cb4-42b7-bab9-96355e19ed2e",
   "metadata": {},
   "source": [
    "# Task 3: Searching through a column for numerical values"
   ]
  },
  {
   "cell_type": "code",
   "execution_count": 13,
   "id": "8cb78a60-7496-4eef-b8f2-8041e98465f4",
   "metadata": {},
   "outputs": [
    {
     "name": "stdout",
     "output_type": "stream",
     "text": [
      "   Product ID Product Category  Product Name  Sales  Ratings\n",
      "0         101      Electronics            TV  950.0      4.5\n",
      "2         103      Electronics  Refrigerator  900.0      4.7\n"
     ]
    }
   ],
   "source": [
    "filtered_electronics = electronics_products[(electronics_products['Sales'] > 500) & (electronics_products['Sales'] < 1000)]\n",
    "print(filtered_electronics)"
   ]
  },
  {
   "cell_type": "markdown",
   "id": "c0ec2e5d-2bb5-47ba-8141-9cc500138ef4",
   "metadata": {},
   "source": [
    "# Task 4: Finding the highest Sales value and its product ID by using index"
   ]
  },
  {
   "cell_type": "code",
   "execution_count": 25,
   "id": "0c5d7306-2b14-41ad-b2e3-b1e32c9ee4a3",
   "metadata": {},
   "outputs": [
    {
     "data": {
      "text/plain": [
       "np.int64(101)"
      ]
     },
     "execution_count": 25,
     "metadata": {},
     "output_type": "execute_result"
    }
   ],
   "source": [
    "max_sales_index = imputed_products_df['Sales'].idxmax()\n",
    "top_seller_id = imputed_products_df.iloc[max_sales_index,0]\n",
    "top_seller_id\n",
    "\n"
   ]
  },
  {
   "cell_type": "markdown",
   "id": "f012ffd9-473f-4202-b3f9-43096a49bde3",
   "metadata": {},
   "source": [
    "# Task 5 Create a copy of the imputed dataset. Then add a new binary column named High Sales. High Sales = 1 if sales > 500"
   ]
  },
  {
   "cell_type": "code",
   "execution_count": 55,
   "id": "959c6c71-252c-4d4a-90ea-33df6ef729b2",
   "metadata": {},
   "outputs": [
    {
     "data": {
      "text/html": [
       "<div>\n",
       "<style scoped>\n",
       "    .dataframe tbody tr th:only-of-type {\n",
       "        vertical-align: middle;\n",
       "    }\n",
       "\n",
       "    .dataframe tbody tr th {\n",
       "        vertical-align: top;\n",
       "    }\n",
       "\n",
       "    .dataframe thead th {\n",
       "        text-align: right;\n",
       "    }\n",
       "</style>\n",
       "<table border=\"1\" class=\"dataframe\">\n",
       "  <thead>\n",
       "    <tr style=\"text-align: right;\">\n",
       "      <th></th>\n",
       "      <th>Product ID</th>\n",
       "      <th>Product Category</th>\n",
       "      <th>Product Name</th>\n",
       "      <th>Sales</th>\n",
       "      <th>Ratings</th>\n",
       "      <th>High Sales</th>\n",
       "    </tr>\n",
       "  </thead>\n",
       "  <tbody>\n",
       "    <tr>\n",
       "      <th>0</th>\n",
       "      <td>101</td>\n",
       "      <td>Electronics</td>\n",
       "      <td>TV</td>\n",
       "      <td>950.0</td>\n",
       "      <td>4.50</td>\n",
       "      <td>1</td>\n",
       "    </tr>\n",
       "    <tr>\n",
       "      <th>1</th>\n",
       "      <td>102</td>\n",
       "      <td>Furniture</td>\n",
       "      <td>Table</td>\n",
       "      <td>490.0</td>\n",
       "      <td>4.00</td>\n",
       "      <td>0</td>\n",
       "    </tr>\n",
       "    <tr>\n",
       "      <th>2</th>\n",
       "      <td>103</td>\n",
       "      <td>Electronics</td>\n",
       "      <td>Refrigerator</td>\n",
       "      <td>900.0</td>\n",
       "      <td>4.70</td>\n",
       "      <td>1</td>\n",
       "    </tr>\n",
       "    <tr>\n",
       "      <th>3</th>\n",
       "      <td>104</td>\n",
       "      <td>Grocery</td>\n",
       "      <td>Bread</td>\n",
       "      <td>50.0</td>\n",
       "      <td>4.28</td>\n",
       "      <td>0</td>\n",
       "    </tr>\n",
       "    <tr>\n",
       "      <th>4</th>\n",
       "      <td>105</td>\n",
       "      <td>Electronics</td>\n",
       "      <td>Microwave</td>\n",
       "      <td>490.0</td>\n",
       "      <td>4.20</td>\n",
       "      <td>0</td>\n",
       "    </tr>\n",
       "    <tr>\n",
       "      <th>5</th>\n",
       "      <td>106</td>\n",
       "      <td>Furniture</td>\n",
       "      <td>Chair</td>\n",
       "      <td>150.0</td>\n",
       "      <td>4.00</td>\n",
       "      <td>0</td>\n",
       "    </tr>\n",
       "    <tr>\n",
       "      <th>6</th>\n",
       "      <td>107</td>\n",
       "      <td>Electronics</td>\n",
       "      <td>Sofa</td>\n",
       "      <td>400.0</td>\n",
       "      <td>4.28</td>\n",
       "      <td>0</td>\n",
       "    </tr>\n",
       "  </tbody>\n",
       "</table>\n",
       "</div>"
      ],
      "text/plain": [
       "   Product ID Product Category  Product Name  Sales  Ratings  High Sales\n",
       "0         101      Electronics            TV  950.0     4.50           1\n",
       "1         102        Furniture         Table  490.0     4.00           0\n",
       "2         103      Electronics  Refrigerator  900.0     4.70           1\n",
       "3         104          Grocery         Bread   50.0     4.28           0\n",
       "4         105      Electronics     Microwave  490.0     4.20           0\n",
       "5         106        Furniture         Chair  150.0     4.00           0\n",
       "6         107      Electronics          Sofa  400.0     4.28           0"
      ]
     },
     "execution_count": 55,
     "metadata": {},
     "output_type": "execute_result"
    }
   ],
   "source": [
    "imputed_products_df['High Sales'] = imputed_products_df['Sales'] > 500 \n",
    "imputed_products_df['High Sales'] = imputed_products_df['High Sales'].astype(int) ##converting boolean variable to 1 and 0\n",
    "imputed_products_with_high_sales_df = imputed_products_df\n",
    "imputed_products_with_high_sales_df"
   ]
  }
 ],
 "metadata": {
  "kernelspec": {
   "display_name": "is327",
   "language": "python",
   "name": "is327"
  },
  "language_info": {
   "codemirror_mode": {
    "name": "ipython",
    "version": 3
   },
   "file_extension": ".py",
   "mimetype": "text/x-python",
   "name": "python",
   "nbconvert_exporter": "python",
   "pygments_lexer": "ipython3",
   "version": "3.10.16"
  }
 },
 "nbformat": 4,
 "nbformat_minor": 5
}
