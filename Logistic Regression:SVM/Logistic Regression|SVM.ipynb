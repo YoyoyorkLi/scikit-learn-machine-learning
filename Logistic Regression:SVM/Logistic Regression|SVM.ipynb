{
 "cells": [
  {
   "cell_type": "code",
   "execution_count": 103,
   "id": "1f262d20-e187-4157-b3a0-8a84fa18c7a9",
   "metadata": {},
   "outputs": [],
   "source": [
    "import pandas as pd\n",
    "from sklearn import linear_model, svm, metrics\n",
    "from sklearn.linear_model import LogisticRegression\n",
    "from sklearn.metrics import cohen_kappa_score\n",
    "from sklearn.svm import SVC"
   ]
  },
  {
   "cell_type": "code",
   "execution_count": 10,
   "id": "1f082564-883d-4106-a5a3-fca7df938ad5",
   "metadata": {},
   "outputs": [
    {
     "data": {
      "text/html": [
       "<div>\n",
       "<style scoped>\n",
       "    .dataframe tbody tr th:only-of-type {\n",
       "        vertical-align: middle;\n",
       "    }\n",
       "\n",
       "    .dataframe tbody tr th {\n",
       "        vertical-align: top;\n",
       "    }\n",
       "\n",
       "    .dataframe thead th {\n",
       "        text-align: right;\n",
       "    }\n",
       "</style>\n",
       "<table border=\"1\" class=\"dataframe\">\n",
       "  <thead>\n",
       "    <tr style=\"text-align: right;\">\n",
       "      <th></th>\n",
       "      <th>col0</th>\n",
       "      <th>col1</th>\n",
       "      <th>col2</th>\n",
       "      <th>col3</th>\n",
       "      <th>col4</th>\n",
       "      <th>col5</th>\n",
       "      <th>col6</th>\n",
       "      <th>col7</th>\n",
       "      <th>col8</th>\n",
       "      <th>col9</th>\n",
       "      <th>col10</th>\n",
       "      <th>col11</th>\n",
       "      <th>label</th>\n",
       "    </tr>\n",
       "  </thead>\n",
       "  <tbody>\n",
       "    <tr>\n",
       "      <th>0</th>\n",
       "      <td>-57.428565</td>\n",
       "      <td>-1.383491</td>\n",
       "      <td>-1.279803</td>\n",
       "      <td>0</td>\n",
       "      <td>0</td>\n",
       "      <td>-20.299128</td>\n",
       "      <td>-0.221199</td>\n",
       "      <td>1</td>\n",
       "      <td>-0.959752</td>\n",
       "      <td>0.734937</td>\n",
       "      <td>-1.602247</td>\n",
       "      <td>-1.119137</td>\n",
       "      <td>0</td>\n",
       "    </tr>\n",
       "    <tr>\n",
       "      <th>1</th>\n",
       "      <td>-61.472179</td>\n",
       "      <td>0.508529</td>\n",
       "      <td>-0.949594</td>\n",
       "      <td>1</td>\n",
       "      <td>1</td>\n",
       "      <td>-19.999154</td>\n",
       "      <td>-0.024918</td>\n",
       "      <td>0</td>\n",
       "      <td>2.707066</td>\n",
       "      <td>0.866967</td>\n",
       "      <td>-1.376311</td>\n",
       "      <td>2.042479</td>\n",
       "      <td>0</td>\n",
       "    </tr>\n",
       "    <tr>\n",
       "      <th>2</th>\n",
       "      <td>56.685355</td>\n",
       "      <td>-2.141930</td>\n",
       "      <td>-1.741963</td>\n",
       "      <td>1</td>\n",
       "      <td>1</td>\n",
       "      <td>-18.685720</td>\n",
       "      <td>-1.438613</td>\n",
       "      <td>0</td>\n",
       "      <td>-1.305216</td>\n",
       "      <td>-2.588885</td>\n",
       "      <td>-2.382502</td>\n",
       "      <td>0.822944</td>\n",
       "      <td>2</td>\n",
       "    </tr>\n",
       "    <tr>\n",
       "      <th>3</th>\n",
       "      <td>57.188505</td>\n",
       "      <td>1.399543</td>\n",
       "      <td>0.011490</td>\n",
       "      <td>1</td>\n",
       "      <td>1</td>\n",
       "      <td>-19.594582</td>\n",
       "      <td>-0.622729</td>\n",
       "      <td>0</td>\n",
       "      <td>1.826337</td>\n",
       "      <td>-0.698052</td>\n",
       "      <td>2.404357</td>\n",
       "      <td>0.065615</td>\n",
       "      <td>2</td>\n",
       "    </tr>\n",
       "    <tr>\n",
       "      <th>4</th>\n",
       "      <td>46.826724</td>\n",
       "      <td>-0.876846</td>\n",
       "      <td>0.941722</td>\n",
       "      <td>1</td>\n",
       "      <td>0</td>\n",
       "      <td>-17.381302</td>\n",
       "      <td>-0.437466</td>\n",
       "      <td>0</td>\n",
       "      <td>0.615252</td>\n",
       "      <td>0.828705</td>\n",
       "      <td>-1.137073</td>\n",
       "      <td>0.404447</td>\n",
       "      <td>1</td>\n",
       "    </tr>\n",
       "  </tbody>\n",
       "</table>\n",
       "</div>"
      ],
      "text/plain": [
       "        col0      col1      col2  col3  col4       col5      col6  col7  \\\n",
       "0 -57.428565 -1.383491 -1.279803     0     0 -20.299128 -0.221199     1   \n",
       "1 -61.472179  0.508529 -0.949594     1     1 -19.999154 -0.024918     0   \n",
       "2  56.685355 -2.141930 -1.741963     1     1 -18.685720 -1.438613     0   \n",
       "3  57.188505  1.399543  0.011490     1     1 -19.594582 -0.622729     0   \n",
       "4  46.826724 -0.876846  0.941722     1     0 -17.381302 -0.437466     0   \n",
       "\n",
       "       col8      col9     col10     col11  label  \n",
       "0 -0.959752  0.734937 -1.602247 -1.119137      0  \n",
       "1  2.707066  0.866967 -1.376311  2.042479      0  \n",
       "2 -1.305216 -2.588885 -2.382502  0.822944      2  \n",
       "3  1.826337 -0.698052  2.404357  0.065615      2  \n",
       "4  0.615252  0.828705 -1.137073  0.404447      1  "
      ]
     },
     "execution_count": 10,
     "metadata": {},
     "output_type": "execute_result"
    }
   ],
   "source": [
    "df = pd.read_csv('Logistic Regression|SVM.csv')\n",
    "df.head()"
   ]
  },
  {
   "cell_type": "code",
   "execution_count": 63,
   "id": "4e3d3420-129d-4c8c-a730-c642d93e3b1c",
   "metadata": {},
   "outputs": [],
   "source": [
    "train_df = df.iloc[:200]\n",
    "test_df = df.iloc[200:]\n",
    "features = [f for f in df if f != 'label']\n",
    "train_X = train_df[features]\n",
    "train_y = train_df['label']\n",
    "test_X = test_df[features]\n",
    "test_y = test_df['label']"
   ]
  },
  {
   "cell_type": "code",
   "execution_count": 77,
   "id": "dd9b5023-8fc0-4033-894a-44432598b7f9",
   "metadata": {},
   "outputs": [],
   "source": [
    "model = LogisticRegression(C = 0.01, penalty = 'l2',  max_iter=1000)\n",
    "model.fit(train_X,train_y)\n",
    "lr_predictions =  model.predict(test_X)"
   ]
  },
  {
   "cell_type": "code",
   "execution_count": 89,
   "id": "78a901fa-82af-41ad-813b-f05293ac64a2",
   "metadata": {},
   "outputs": [],
   "source": [
    "lr_acc = cohen_kappa_score(test_y, lr_predictions)"
   ]
  },
  {
   "cell_type": "code",
   "execution_count": 91,
   "id": "d9ea8310-27e3-4e3b-908a-b3691a264efc",
   "metadata": {},
   "outputs": [
    {
     "data": {
      "text/plain": [
       "np.float64(0.4844074844074844)"
      ]
     },
     "execution_count": 91,
     "metadata": {},
     "output_type": "execute_result"
    }
   ],
   "source": [
    "lr_acc"
   ]
  },
  {
   "cell_type": "code",
   "execution_count": 107,
   "id": "520f116b-2d2d-4eac-b02b-92ecac1437cb",
   "metadata": {},
   "outputs": [],
   "source": [
    "model = SVC(C = 0.1, kernel = 'linear')\n",
    "model.fit(train_X,train_y)\n",
    "svm_predictions = model.predict(test_X)"
   ]
  },
  {
   "cell_type": "code",
   "execution_count": 111,
   "id": "65cef6d7-7a4e-4faa-b74f-a3cef6f23dc7",
   "metadata": {},
   "outputs": [],
   "source": [
    "svm_acc = cohen_kappa_score(test_y, svm_predictions)"
   ]
  },
  {
   "cell_type": "code",
   "execution_count": 113,
   "id": "c6a61619-f3a7-492c-9f3f-91d4e35b3625",
   "metadata": {},
   "outputs": [
    {
     "data": {
      "text/plain": [
       "np.float64(0.5967741935483871)"
      ]
     },
     "execution_count": 113,
     "metadata": {},
     "output_type": "execute_result"
    }
   ],
   "source": [
    "svm_acc"
   ]
  }
 ],
 "metadata": {
  "kernelspec": {
   "display_name": "is327",
   "language": "python",
   "name": "is327"
  },
  "language_info": {
   "codemirror_mode": {
    "name": "ipython",
    "version": 3
   },
   "file_extension": ".py",
   "mimetype": "text/x-python",
   "name": "python",
   "nbconvert_exporter": "python",
   "pygments_lexer": "ipython3",
   "version": "3.10.16"
  }
 },
 "nbformat": 4,
 "nbformat_minor": 5
}
