{
 "cells": [
  {
   "cell_type": "code",
   "execution_count": 50,
   "id": "5257fe93-c715-4110-8349-df85fc9b6f4d",
   "metadata": {},
   "outputs": [],
   "source": [
    "import pandas as pd\n",
    "import numpy as np\n",
    "from sklearn import model_selection, tree\n",
    "from sklearn.model_selection import KFold\n",
    "from sklearn.model_selection import cross_validate\n",
    "from sklearn.tree import DecisionTreeRegressor"
   ]
  },
  {
   "cell_type": "code",
   "execution_count": 6,
   "id": "f9c815eb-e19a-476f-b064-0e0376854a2f",
   "metadata": {},
   "outputs": [
    {
     "data": {
      "text/html": [
       "<div>\n",
       "<style scoped>\n",
       "    .dataframe tbody tr th:only-of-type {\n",
       "        vertical-align: middle;\n",
       "    }\n",
       "\n",
       "    .dataframe tbody tr th {\n",
       "        vertical-align: top;\n",
       "    }\n",
       "\n",
       "    .dataframe thead th {\n",
       "        text-align: right;\n",
       "    }\n",
       "</style>\n",
       "<table border=\"1\" class=\"dataframe\">\n",
       "  <thead>\n",
       "    <tr style=\"text-align: right;\">\n",
       "      <th></th>\n",
       "      <th>mpg</th>\n",
       "      <th>horsepower</th>\n",
       "      <th>weight</th>\n",
       "      <th>origin</th>\n",
       "      <th>model year</th>\n",
       "    </tr>\n",
       "  </thead>\n",
       "  <tbody>\n",
       "    <tr>\n",
       "      <th>0</th>\n",
       "      <td>18.0</td>\n",
       "      <td>130.0</td>\n",
       "      <td>3504.0</td>\n",
       "      <td>1</td>\n",
       "      <td>70</td>\n",
       "    </tr>\n",
       "    <tr>\n",
       "      <th>1</th>\n",
       "      <td>15.0</td>\n",
       "      <td>165.0</td>\n",
       "      <td>3693.0</td>\n",
       "      <td>1</td>\n",
       "      <td>70</td>\n",
       "    </tr>\n",
       "    <tr>\n",
       "      <th>2</th>\n",
       "      <td>18.0</td>\n",
       "      <td>150.0</td>\n",
       "      <td>3436.0</td>\n",
       "      <td>1</td>\n",
       "      <td>70</td>\n",
       "    </tr>\n",
       "    <tr>\n",
       "      <th>3</th>\n",
       "      <td>16.0</td>\n",
       "      <td>150.0</td>\n",
       "      <td>3433.0</td>\n",
       "      <td>1</td>\n",
       "      <td>70</td>\n",
       "    </tr>\n",
       "    <tr>\n",
       "      <th>4</th>\n",
       "      <td>17.0</td>\n",
       "      <td>140.0</td>\n",
       "      <td>3449.0</td>\n",
       "      <td>1</td>\n",
       "      <td>70</td>\n",
       "    </tr>\n",
       "  </tbody>\n",
       "</table>\n",
       "</div>"
      ],
      "text/plain": [
       "    mpg horsepower  weight  origin  model year\n",
       "0  18.0      130.0  3504.0       1          70\n",
       "1  15.0      165.0  3693.0       1          70\n",
       "2  18.0      150.0  3436.0       1          70\n",
       "3  16.0      150.0  3433.0       1          70\n",
       "4  17.0      140.0  3449.0       1          70"
      ]
     },
     "execution_count": 6,
     "metadata": {},
     "output_type": "execute_result"
    }
   ],
   "source": [
    "df = pd.read_csv('Decision Tree Regression Dataset.csv')\n",
    "df.head() "
   ]
  },
  {
   "cell_type": "code",
   "execution_count": 30,
   "id": "bc0b1ef9-62e5-4778-a030-95214e189b66",
   "metadata": {},
   "outputs": [],
   "source": [
    "df['horsepower'] = df.horsepower.replace('?', 100)\n",
    "df['horsepower'].describe()\n",
    "X = df.drop(columns = ['mpg'])\n",
    "y = df['mpg']"
   ]
  },
  {
   "cell_type": "code",
   "execution_count": 44,
   "id": "ff8791a4-8d21-4737-a1c5-d436362c712f",
   "metadata": {},
   "outputs": [],
   "source": [
    "xval = KFold(n_splits = 10, shuffle = True)\n",
    "model = DecisionTreeRegressor()"
   ]
  },
  {
   "cell_type": "code",
   "execution_count": 46,
   "id": "29bf31c6-f87c-4690-9015-11c52c6f9808",
   "metadata": {},
   "outputs": [],
   "source": [
    "result = cross_validate(model, X, y, cv = xval, scoring= 'r2', return_train_score=True, return_estimator=True)"
   ]
  },
  {
   "cell_type": "code",
   "execution_count": 68,
   "id": "9c6b95a1-a211-4191-9f4c-01b8c99b3278",
   "metadata": {},
   "outputs": [
    {
     "data": {
      "text/plain": [
       "{'fit_time': array([0.01654983, 0.0063591 , 0.01003599, 0.00480604, 0.00399613,\n",
       "        0.00419474, 0.00391126, 0.00393796, 0.0050087 , 0.003438  ]),\n",
       " 'score_time': array([0.00359511, 0.00247908, 0.00307131, 0.00379109, 0.00237298,\n",
       "        0.0028379 , 0.00243783, 0.00231194, 0.00197625, 0.00180697]),\n",
       " 'estimator': [DecisionTreeRegressor(),\n",
       "  DecisionTreeRegressor(),\n",
       "  DecisionTreeRegressor(),\n",
       "  DecisionTreeRegressor(),\n",
       "  DecisionTreeRegressor(),\n",
       "  DecisionTreeRegressor(),\n",
       "  DecisionTreeRegressor(),\n",
       "  DecisionTreeRegressor(),\n",
       "  DecisionTreeRegressor(),\n",
       "  DecisionTreeRegressor()],\n",
       " 'test_score': array([0.75383811, 0.90726745, 0.80806823, 0.56624044, 0.8192843 ,\n",
       "        0.67238952, 0.81507667, 0.77802339, 0.67390611, 0.78802319]),\n",
       " 'train_score': array([0.99844781, 0.99915909, 0.99843068, 0.99842504, 0.99843437,\n",
       "        0.99835724, 0.99836085, 1.        , 0.99844734, 0.99924254])}"
      ]
     },
     "execution_count": 68,
     "metadata": {},
     "output_type": "execute_result"
    }
   ],
   "source": [
    "result"
   ]
  },
  {
   "cell_type": "code",
   "execution_count": 76,
   "id": "7fbe853a-4113-42e7-9eaa-2db5c8903005",
   "metadata": {},
   "outputs": [
    {
     "data": {
      "text/plain": [
       "np.float64(0.0918112077322339)"
      ]
     },
     "execution_count": 76,
     "metadata": {},
     "output_type": "execute_result"
    }
   ],
   "source": [
    "train_r2 = np.mean(result['train_score'])\n",
    "train_r2_sd = np.std(result['train_score'])\n",
    "test_r2 = np.mean(result['test_score'])\n",
    "test_r2_sd = np.std(result['test_score'])\n",
    "train_r2_sd"
   ]
  }
 ],
 "metadata": {
  "kernelspec": {
   "display_name": "is327",
   "language": "python",
   "name": "is327"
  },
  "language_info": {
   "codemirror_mode": {
    "name": "ipython",
    "version": 3
   },
   "file_extension": ".py",
   "mimetype": "text/x-python",
   "name": "python",
   "nbconvert_exporter": "python",
   "pygments_lexer": "ipython3",
   "version": "3.10.16"
  }
 },
 "nbformat": 4,
 "nbformat_minor": 5
}
