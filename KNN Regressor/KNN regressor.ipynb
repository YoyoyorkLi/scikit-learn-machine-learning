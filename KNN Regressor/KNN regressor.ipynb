{
 "cells": [
  {
   "cell_type": "code",
   "execution_count": 56,
   "id": "47dff3d8-0d8a-42c7-92ff-6b7ccb66d41c",
   "metadata": {},
   "outputs": [],
   "source": [
    "import pandas as pd\n",
    "import numpy as np\n",
    "from sklearn import model_selection, neighbors\n",
    "from sklearn.model_selection import cross_validate, KFold\n",
    "from sklearn.neighbors import KNeighborsRegressor"
   ]
  },
  {
   "cell_type": "code",
   "execution_count": 58,
   "id": "b0a95e3a-e637-4ec5-a30e-ce35ed3d483d",
   "metadata": {},
   "outputs": [
    {
     "data": {
      "text/html": [
       "<div>\n",
       "<style scoped>\n",
       "    .dataframe tbody tr th:only-of-type {\n",
       "        vertical-align: middle;\n",
       "    }\n",
       "\n",
       "    .dataframe tbody tr th {\n",
       "        vertical-align: top;\n",
       "    }\n",
       "\n",
       "    .dataframe thead th {\n",
       "        text-align: right;\n",
       "    }\n",
       "</style>\n",
       "<table border=\"1\" class=\"dataframe\">\n",
       "  <thead>\n",
       "    <tr style=\"text-align: right;\">\n",
       "      <th></th>\n",
       "      <th>col0</th>\n",
       "      <th>col1</th>\n",
       "      <th>col2</th>\n",
       "      <th>col3</th>\n",
       "      <th>col4</th>\n",
       "      <th>col5</th>\n",
       "      <th>col6</th>\n",
       "      <th>col7</th>\n",
       "      <th>col8</th>\n",
       "      <th>col9</th>\n",
       "      <th>col10</th>\n",
       "      <th>label</th>\n",
       "    </tr>\n",
       "  </thead>\n",
       "  <tbody>\n",
       "    <tr>\n",
       "      <th>0</th>\n",
       "      <td>-1.018513</td>\n",
       "      <td>-0.918571</td>\n",
       "      <td>0</td>\n",
       "      <td>0.460750</td>\n",
       "      <td>-18.880913</td>\n",
       "      <td>0.203032</td>\n",
       "      <td>-1.592096</td>\n",
       "      <td>0.082952</td>\n",
       "      <td>-0.168378</td>\n",
       "      <td>-0.374866</td>\n",
       "      <td>1</td>\n",
       "      <td>-104.110301</td>\n",
       "    </tr>\n",
       "    <tr>\n",
       "      <th>1</th>\n",
       "      <td>-0.864211</td>\n",
       "      <td>1.505160</td>\n",
       "      <td>0</td>\n",
       "      <td>0.606928</td>\n",
       "      <td>-20.206970</td>\n",
       "      <td>0.828308</td>\n",
       "      <td>0.299667</td>\n",
       "      <td>0.407726</td>\n",
       "      <td>-1.850687</td>\n",
       "      <td>-0.253448</td>\n",
       "      <td>0</td>\n",
       "      <td>48.982265</td>\n",
       "    </tr>\n",
       "    <tr>\n",
       "      <th>2</th>\n",
       "      <td>-2.147784</td>\n",
       "      <td>0.199999</td>\n",
       "      <td>1</td>\n",
       "      <td>0.277234</td>\n",
       "      <td>-21.624488</td>\n",
       "      <td>-1.254740</td>\n",
       "      <td>-0.499009</td>\n",
       "      <td>0.073828</td>\n",
       "      <td>-0.456890</td>\n",
       "      <td>0.242341</td>\n",
       "      <td>0</td>\n",
       "      <td>-152.247758</td>\n",
       "    </tr>\n",
       "    <tr>\n",
       "      <th>3</th>\n",
       "      <td>-0.553447</td>\n",
       "      <td>0.330287</td>\n",
       "      <td>0</td>\n",
       "      <td>-0.279434</td>\n",
       "      <td>-4.139728</td>\n",
       "      <td>-0.431792</td>\n",
       "      <td>1.595413</td>\n",
       "      <td>-0.107843</td>\n",
       "      <td>-0.429104</td>\n",
       "      <td>1.445652</td>\n",
       "      <td>0</td>\n",
       "      <td>-42.373757</td>\n",
       "    </tr>\n",
       "    <tr>\n",
       "      <th>4</th>\n",
       "      <td>0.575383</td>\n",
       "      <td>-0.268590</td>\n",
       "      <td>0</td>\n",
       "      <td>0.535590</td>\n",
       "      <td>-8.787808</td>\n",
       "      <td>1.864928</td>\n",
       "      <td>-1.207563</td>\n",
       "      <td>-1.247042</td>\n",
       "      <td>-2.057799</td>\n",
       "      <td>-0.940098</td>\n",
       "      <td>0</td>\n",
       "      <td>-77.217235</td>\n",
       "    </tr>\n",
       "  </tbody>\n",
       "</table>\n",
       "</div>"
      ],
      "text/plain": [
       "       col0      col1  col2      col3       col4      col5      col6  \\\n",
       "0 -1.018513 -0.918571     0  0.460750 -18.880913  0.203032 -1.592096   \n",
       "1 -0.864211  1.505160     0  0.606928 -20.206970  0.828308  0.299667   \n",
       "2 -2.147784  0.199999     1  0.277234 -21.624488 -1.254740 -0.499009   \n",
       "3 -0.553447  0.330287     0 -0.279434  -4.139728 -0.431792  1.595413   \n",
       "4  0.575383 -0.268590     0  0.535590  -8.787808  1.864928 -1.207563   \n",
       "\n",
       "       col7      col8      col9  col10       label  \n",
       "0  0.082952 -0.168378 -0.374866      1 -104.110301  \n",
       "1  0.407726 -1.850687 -0.253448      0   48.982265  \n",
       "2  0.073828 -0.456890  0.242341      0 -152.247758  \n",
       "3 -0.107843 -0.429104  1.445652      0  -42.373757  \n",
       "4 -1.247042 -2.057799 -0.940098      0  -77.217235  "
      ]
     },
     "execution_count": 58,
     "metadata": {},
     "output_type": "execute_result"
    }
   ],
   "source": [
    "df = pd.read_csv('KNN Regressor Dataset.csv')\n",
    "df.head()"
   ]
  },
  {
   "cell_type": "code",
   "execution_count": 62,
   "id": "a30a478e-b28f-4dbb-913c-bce267abd551",
   "metadata": {},
   "outputs": [],
   "source": [
    "X = df.drop(columns = ['label'])\n",
    "y = df.label\n",
    "model = KNeighborsRegressor(n_neighbors = 3)\n",
    "xval = KFold(n_splits = 10, shuffle = True)"
   ]
  },
  {
   "cell_type": "code",
   "execution_count": 70,
   "id": "1a4f5d92-4224-4ab3-bf6f-b33b222b5622",
   "metadata": {},
   "outputs": [],
   "source": [
    "results = cross_validate(model, X, y, cv = xval, scoring='r2', return_train_score=True )"
   ]
  },
  {
   "cell_type": "code",
   "execution_count": 72,
   "id": "89d86f99-3141-4e54-85e9-75fdffadd858",
   "metadata": {},
   "outputs": [],
   "source": [
    "train_r2 = np.mean(results['train_score'])\n",
    "train_r2_sd = np.std(results['train_score'])\n",
    "test_r2 = np.mean(results['test_score'])\n",
    "test_r2_sd = np.std(results['test_score'])"
   ]
  },
  {
   "cell_type": "code",
   "execution_count": 74,
   "id": "00d4a843-f225-45d4-8375-46b8dd5a6905",
   "metadata": {},
   "outputs": [
    {
     "name": "stdout",
     "output_type": "stream",
     "text": [
      "0.7314047657013913 0.009707852794285848 0.4185476025775602 0.09990890961562249\n"
     ]
    }
   ],
   "source": [
    "print(train_r2, train_r2_sd, test_r2, test_r2_sd)"
   ]
  }
 ],
 "metadata": {
  "kernelspec": {
   "display_name": "is327",
   "language": "python",
   "name": "is327"
  },
  "language_info": {
   "codemirror_mode": {
    "name": "ipython",
    "version": 3
   },
   "file_extension": ".py",
   "mimetype": "text/x-python",
   "name": "python",
   "nbconvert_exporter": "python",
   "pygments_lexer": "ipython3",
   "version": "3.10.16"
  }
 },
 "nbformat": 4,
 "nbformat_minor": 5
}
