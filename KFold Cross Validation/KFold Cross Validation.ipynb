{
 "cells": [
  {
   "cell_type": "code",
   "execution_count": 4,
   "id": "eeac989d-ad21-4f45-9525-1f2c60eb0c0d",
   "metadata": {},
   "outputs": [],
   "source": [
    "import pandas as pd\n",
    "import numpy as np\n",
    "from sklearn import tree, metrics, model_selection"
   ]
  },
  {
   "cell_type": "code",
   "execution_count": 5,
   "id": "42bc1509-2f95-4d22-84f0-46e610d3a493",
   "metadata": {},
   "outputs": [
    {
     "data": {
      "text/html": [
       "<div>\n",
       "<style scoped>\n",
       "    .dataframe tbody tr th:only-of-type {\n",
       "        vertical-align: middle;\n",
       "    }\n",
       "\n",
       "    .dataframe tbody tr th {\n",
       "        vertical-align: top;\n",
       "    }\n",
       "\n",
       "    .dataframe thead th {\n",
       "        text-align: right;\n",
       "    }\n",
       "</style>\n",
       "<table border=\"1\" class=\"dataframe\">\n",
       "  <thead>\n",
       "    <tr style=\"text-align: right;\">\n",
       "      <th></th>\n",
       "      <th>col0</th>\n",
       "      <th>col1</th>\n",
       "      <th>col2</th>\n",
       "      <th>col3</th>\n",
       "      <th>col4</th>\n",
       "      <th>col5</th>\n",
       "      <th>col6</th>\n",
       "      <th>col7</th>\n",
       "      <th>col8</th>\n",
       "      <th>col9</th>\n",
       "      <th>col10</th>\n",
       "      <th>label</th>\n",
       "    </tr>\n",
       "  </thead>\n",
       "  <tbody>\n",
       "    <tr>\n",
       "      <th>0</th>\n",
       "      <td>0</td>\n",
       "      <td>3.499778</td>\n",
       "      <td>0.462015</td>\n",
       "      <td>-1.190567</td>\n",
       "      <td>-0.368438</td>\n",
       "      <td>35.157743</td>\n",
       "      <td>-2.001221</td>\n",
       "      <td>1.222046</td>\n",
       "      <td>-43.610669</td>\n",
       "      <td>1</td>\n",
       "      <td>1.496040</td>\n",
       "      <td>2</td>\n",
       "    </tr>\n",
       "    <tr>\n",
       "      <th>1</th>\n",
       "      <td>0</td>\n",
       "      <td>0.394558</td>\n",
       "      <td>-1.296340</td>\n",
       "      <td>-1.508713</td>\n",
       "      <td>0.462023</td>\n",
       "      <td>-3.084170</td>\n",
       "      <td>0.747858</td>\n",
       "      <td>0.754512</td>\n",
       "      <td>-43.147046</td>\n",
       "      <td>0</td>\n",
       "      <td>-0.103293</td>\n",
       "      <td>0</td>\n",
       "    </tr>\n",
       "    <tr>\n",
       "      <th>2</th>\n",
       "      <td>1</td>\n",
       "      <td>0.167662</td>\n",
       "      <td>-1.415447</td>\n",
       "      <td>0.340301</td>\n",
       "      <td>-1.163125</td>\n",
       "      <td>-2.155223</td>\n",
       "      <td>-4.452743</td>\n",
       "      <td>-1.232167</td>\n",
       "      <td>-41.996841</td>\n",
       "      <td>1</td>\n",
       "      <td>-2.802779</td>\n",
       "      <td>2</td>\n",
       "    </tr>\n",
       "    <tr>\n",
       "      <th>3</th>\n",
       "      <td>1</td>\n",
       "      <td>1.288615</td>\n",
       "      <td>-0.091966</td>\n",
       "      <td>0.049261</td>\n",
       "      <td>-2.261617</td>\n",
       "      <td>32.502713</td>\n",
       "      <td>-2.998574</td>\n",
       "      <td>1.199547</td>\n",
       "      <td>-42.053010</td>\n",
       "      <td>1</td>\n",
       "      <td>-0.563404</td>\n",
       "      <td>2</td>\n",
       "    </tr>\n",
       "    <tr>\n",
       "      <th>4</th>\n",
       "      <td>1</td>\n",
       "      <td>-1.510248</td>\n",
       "      <td>-1.048314</td>\n",
       "      <td>0.784191</td>\n",
       "      <td>0.738153</td>\n",
       "      <td>-60.059202</td>\n",
       "      <td>-0.072333</td>\n",
       "      <td>0.114277</td>\n",
       "      <td>-43.068171</td>\n",
       "      <td>0</td>\n",
       "      <td>-1.734305</td>\n",
       "      <td>2</td>\n",
       "    </tr>\n",
       "  </tbody>\n",
       "</table>\n",
       "</div>"
      ],
      "text/plain": [
       "   col0      col1      col2      col3      col4       col5      col6  \\\n",
       "0     0  3.499778  0.462015 -1.190567 -0.368438  35.157743 -2.001221   \n",
       "1     0  0.394558 -1.296340 -1.508713  0.462023  -3.084170  0.747858   \n",
       "2     1  0.167662 -1.415447  0.340301 -1.163125  -2.155223 -4.452743   \n",
       "3     1  1.288615 -0.091966  0.049261 -2.261617  32.502713 -2.998574   \n",
       "4     1 -1.510248 -1.048314  0.784191  0.738153 -60.059202 -0.072333   \n",
       "\n",
       "       col7       col8  col9     col10  label  \n",
       "0  1.222046 -43.610669     1  1.496040      2  \n",
       "1  0.754512 -43.147046     0 -0.103293      0  \n",
       "2 -1.232167 -41.996841     1 -2.802779      2  \n",
       "3  1.199547 -42.053010     1 -0.563404      2  \n",
       "4  0.114277 -43.068171     0 -1.734305      2  "
      ]
     },
     "execution_count": 5,
     "metadata": {},
     "output_type": "execute_result"
    }
   ],
   "source": [
    "df = pd.read_csv('/Users/lirunhe/Desktop/IS 327/Homeworks/Week_4.csv')\n",
    "df.head()"
   ]
  },
  {
   "cell_type": "code",
   "execution_count": 8,
   "id": "2df4b809-eb68-4c27-87ae-dbbd68b8bb9b",
   "metadata": {},
   "outputs": [],
   "source": [
    "xval = model_selection.KFold(10, shuffle = True)\n",
    "fold_predictions = []\n",
    "fold_acc = []\n",
    "features = ['col0','col1','col2','col3','col4','col5','col6','col7','col8','col9','col10']"
   ]
  },
  {
   "cell_type": "code",
   "execution_count": 10,
   "id": "1839ab54-fa1e-4dc5-9744-3a8c76cc08af",
   "metadata": {},
   "outputs": [],
   "source": [
    "for train_i, test_i in xval.split(df):\n",
    "    train_df = df.iloc[train_i]\n",
    "    test_df = df.iloc[test_i]\n",
    "    train_X = train_df[features]\n",
    "    train_y = train_df['label']\n",
    "    test_X = test_df[features]\n",
    "    test_y = test_df['label']\n",
    "    model = tree.DecisionTreeClassifier(min_samples_leaf = 5)\n",
    "    model.fit(train_X,train_y)\n",
    "    predictions = model.predict(test_X)\n",
    "    acc = metrics.cohen_kappa_score(test_y, predictions)\n",
    "    fold_predictions.extend(predictions)\n",
    "    fold_acc.append(acc)\n",
    "\n",
    "acc_mean = np.mean(fold_acc)\n",
    "acc_sd = np.std(fold_acc)"
   ]
  },
  {
   "cell_type": "code",
   "execution_count": 12,
   "id": "412be5db-cc75-4296-8201-11e2ab5ceaf8",
   "metadata": {},
   "outputs": [
    {
     "data": {
      "text/plain": [
       "np.float64(0.5981155934587228)"
      ]
     },
     "execution_count": 12,
     "metadata": {},
     "output_type": "execute_result"
    }
   ],
   "source": [
    "acc_mean"
   ]
  }
 ],
 "metadata": {
  "kernelspec": {
   "display_name": "Python [conda env:is327]",
   "language": "python",
   "name": "conda-env-is327-py"
  },
  "language_info": {
   "codemirror_mode": {
    "name": "ipython",
    "version": 3
   },
   "file_extension": ".py",
   "mimetype": "text/x-python",
   "name": "python",
   "nbconvert_exporter": "python",
   "pygments_lexer": "ipython3",
   "version": "3.10.16"
  }
 },
 "nbformat": 4,
 "nbformat_minor": 5
}
